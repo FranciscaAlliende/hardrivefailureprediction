{
 "cells": [
  {
   "cell_type": "code",
   "execution_count": 1,
   "metadata": {},
   "outputs": [
    {
     "name": "stdout",
     "output_type": "stream",
     "text": [
      "Client creating using default project: gentle-pier-291608\n"
     ]
    }
   ],
   "source": [
    "# SETUP\n",
    "\n",
    "# Libraries\n",
    "from google.cloud import bigquery\n",
    "import pandas as pd\n",
    "import matplotlib.pyplot as plt\n",
    "import matplotlib.colors as mcolors\n",
    "\n",
    "# client location\n",
    "client = bigquery.Client(location = \"europe-north1\")\n",
    "print(\"Client creating using default project: {}\".format(client.project))"
   ]
  },
  {
   "cell_type": "code",
   "execution_count": 10,
   "metadata": {},
   "outputs": [
    {
     "data": {
      "text/plain": [
       "131"
      ]
     },
     "execution_count": 10,
     "metadata": {},
     "output_type": "execute_result"
    }
   ],
   "source": [
    "# Column names\n",
    "query = \"\"\"\n",
    "    SELECT *\n",
    "    FROM df.top1model\n",
    "    LIMIT 2\n",
    "\"\"\"\n",
    "query_job = client.query(query, location= \"europe-north1\")  # API request - starts the query\n",
    "top1 = query_job.to_dataframe()\n",
    "cols = top1.columns\n",
    "len(cols)"
   ]
  },
  {
   "cell_type": "code",
   "execution_count": 15,
   "metadata": {},
   "outputs": [],
   "source": [
    "def create_dict_null(table, cols):\n",
    "    nulls = {}\n",
    "    for col in cols:\n",
    "        query = \"\"\"\n",
    "            SELECT (COUNT(*) - COUNT(\"\"\"+col+\"\"\"))/COUNT(*)\n",
    "            FROM df.\"\"\"+table+\"\"\"\n",
    "            \"\"\"\n",
    "        query_job = client.query(query, location= \"europe-north1\")  # API request - starts the query\n",
    "        x = query_job.to_dataframe().values\n",
    "        x = x[0][0]\n",
    "        nulls[col] = x\n",
    "    return nulls"
   ]
  },
  {
   "cell_type": "code",
   "execution_count": 56,
   "metadata": {},
   "outputs": [],
   "source": [
    "def select_columns(d):\n",
    "    not_null_col = list()\n",
    "    null_col = list()\n",
    "    for key, value in d.items():\n",
    "        if value < 0.5:\n",
    "            not_null_col.append(key)\n",
    "        else:\n",
    "            null_col.append(key)\n",
    "    return not_null_col, null_col"
   ]
  },
  {
   "cell_type": "code",
   "execution_count": 16,
   "metadata": {},
   "outputs": [],
   "source": [
    "nulls1 = create_dict_null(\"top1model\", cols)\n",
    "nulls2 = create_dict_null(\"top2model\", cols)\n",
    "nulls3 = create_dict_null(\"top3model\", cols)"
   ]
  },
  {
   "cell_type": "code",
   "execution_count": 57,
   "metadata": {},
   "outputs": [],
   "source": [
    "select_cols1 = select_columns(nulls1)\n",
    "not_null_cols_1 = select_cols1[0]\n",
    "null_cols_1 = select_cols1[1]\n",
    "\n",
    "select_cols2 = select_columns(nulls2)\n",
    "not_null_cols_2 = select_cols2[0]\n",
    "null_cols_3 = select_cols3[1]\n",
    "\n",
    "select_cols3 = select_columns(nulls3)\n",
    "not_null_cols_3 = select_cols3[0]\n",
    "null_cols_2 = select_cols2[1]"
   ]
  },
  {
   "cell_type": "code",
   "execution_count": 63,
   "metadata": {},
   "outputs": [
    {
     "data": {
      "image/png": "[encoded data removed]",
      "text/plain": [
       "<Figure size 432x288 with 1 Axes>"
      ]
     },
     "metadata": {
      "needs_background": "light"
     },
     "output_type": "display_data"
    },
    {
     "name": "stdout",
     "output_type": "stream",
     "text": [
      "Number of columns with low % of null values: 53\n",
      "Number of columns with high % of null values: 78\n"
     ]
    }
   ],
   "source": [
    "plt.hist(nulls1.values(), color = \"m\")\n",
    "plt.xlabel('% null values')\n",
    "plt.ylabel('number of columns')\n",
    "plt.title('% null values in each column model: ST4000DM000')\n",
    "plt.show()\n",
    "print(\"Number of columns with low % of null values:\", len(not_null_cols_1))\n",
    "print(\"Number of columns with high % of null values:\", len(null_cols_1))"
   ]
  },
  {
   "cell_type": "code",
   "execution_count": 64,
   "metadata": {},
   "outputs": [
    {
     "data": {
      "image/png": "[encoded data removed]",
      "text/plain": [
       "<Figure size 432x288 with 1 Axes>"
      ]
     },
     "metadata": {
      "needs_background": "light"
     },
     "output_type": "display_data"
    },
    {
     "name": "stdout",
     "output_type": "stream",
     "text": [
      "Number of columns with low % of null values: 49\n",
      "Number of columns with high % of null values: 82\n"
     ]
    }
   ],
   "source": [
    "plt.hist(nulls2.values(), color = \"g\")\n",
    "plt.xlabel('% null values')\n",
    "plt.ylabel('number of columns')\n",
    "plt.title('% null values in each column model: ST12000NM0007')\n",
    "plt.show()\n",
    "print(\"Number of columns with low % of null values:\", len(not_null_cols_2))\n",
    "print(\"Number of columns with high % of null values:\", len(null_cols_2))"
   ]
  },
  {
   "cell_type": "code",
   "execution_count": 66,
   "metadata": {},
   "outputs": [
    {
     "data": {
      "image/png": "[encoded data removed]",
      "text/plain": [
       "<Figure size 432x288 with 1 Axes>"
      ]
     },
     "metadata": {
      "needs_background": "light"
     },
     "output_type": "display_data"
    },
    {
     "name": "stdout",
     "output_type": "stream",
     "text": [
      "Number of columns with low % of null values: 39\n",
      "Number of columns with high % of null values: 92\n"
     ]
    }
   ],
   "source": [
    "plt.hist(nulls3.values(), color = \"b\")\n",
    "plt.xlabel('% null values')\n",
    "plt.ylabel('number of columns')\n",
    "plt.title('% null values in each column model: HGST HMS5C4040BLE640. ')\n",
    "plt.show()\n",
    "print(\"Number of columns with low % of null values:\", len(not_null_cols_3))\n",
    "print(\"Number of columns with high % of null values:\", len(null_cols_3))"
   ]
  }
 ],
 "metadata": {
  "environment": {
   "name": "common-cpu.m56",
   "type": "gcloud",
   "uri": "gcr.io/deeplearning-platform-release/base-cpu:m56"
  },
  "kernelspec": {
   "display_name": "Python 3",
   "language": "python",
   "name": "python3"
  },
  "language_info": {
   "codemirror_mode": {
    "name": "ipython",
    "version": 3
   },
   "file_extension": ".py",
   "mimetype": "text/x-python",
   "name": "python",
   "nbconvert_exporter": "python",
   "pygments_lexer": "ipython3",
   "version": "3.7.7"
  }
 },
 "nbformat": 4,
 "nbformat_minor": 4
}
