{
 "cells": [
  {
   "cell_type": "code",
   "execution_count": 1,
   "metadata": {},
   "outputs": [
    {
     "name": "stdout",
     "output_type": "stream",
     "text": [
      "Client creating using default project: gentle-pier-291608\n"
     ]
    }
   ],
   "source": [
    "# SETUP\n",
    "\n",
    "# Libraries\n",
    "from google.cloud import bigquery\n",
    "import pandas as pd\n",
    "import numpy as np\n",
    "# client location\n",
    "client = bigquery.Client(location = \"europe-north1\")\n",
    "print(\"Client creating using default project: {}\".format(client.project))"
   ]
  },
  {
   "cell_type": "code",
   "execution_count": 2,
   "metadata": {},
   "outputs": [],
   "source": [
    "query = \"\"\"\n",
    "        SELECT *\n",
    "        FROM df.m1\n",
    "        LIMIT 2\n",
    "    \"\"\"\n",
    "query_job = client.query(query, location= \"europe-north1\")  # API request - starts the query\n",
    "m = query_job.to_dataframe()\n",
    "cols = m.columns\n",
    "cat_features = cols[0:5]\n",
    "SMART = cols[5::]"
   ]
  },
  {
   "cell_type": "code",
   "execution_count": 3,
   "metadata": {},
   "outputs": [
    {
     "name": "stdout",
     "output_type": "stream",
     "text": [
      "41\n",
      "40\n",
      "39\n",
      "38\n",
      "37\n",
      "36\n",
      "35\n",
      "34\n",
      "33\n",
      "32\n",
      "31\n",
      "30\n",
      "29\n",
      "28\n",
      "27\n",
      "26\n",
      "25\n",
      "24\n",
      "23\n",
      "22\n",
      "21\n",
      "20\n",
      "19\n",
      "18\n",
      "17\n",
      "16\n",
      "15\n",
      "14\n",
      "13\n",
      "12\n",
      "11\n",
      "10\n",
      "9\n",
      "8\n",
      "7\n",
      "6\n",
      "5\n",
      "4\n",
      "3\n",
      "2\n",
      "1\n"
     ]
    }
   ],
   "source": [
    "M = pd.DataFrame(columns =  [\"atribute\", \"median\", \"mode\"])\n",
    "i = 0\n",
    "for col in SMART:\n",
    "    print(len(SMART)-i)\n",
    "    i += 1\n",
    "    query = \"\"\"\n",
    "    SELECT \"\"\"+col+\"\"\"\n",
    "    FROM df.m1\n",
    "        \"\"\"\n",
    "    query_job = client.query(query, location= \"europe-north1\")  # API request - starts the query\n",
    "    q = query_job.to_dataframe()\n",
    "    median = q.median()[0]\n",
    "    mode = q.mode().values[0][0]\n",
    "    new_row = {\"atribute\":col, \"median\": median, \"mode\": mode}\n",
    "    M = M.append(new_row, ignore_index = True)"
   ]
  },
  {
   "cell_type": "code",
   "execution_count": 35,
   "metadata": {},
   "outputs": [
    {
     "data": {
      "text/html": [
       "<div>\n",
       "<style scoped>\n",
       "    .dataframe tbody tr th:only-of-type {\n",
       "        vertical-align: middle;\n",
       "    }\n",
       "\n",
       "    .dataframe tbody tr th {\n",
       "        vertical-align: top;\n",
       "    }\n",
       "\n",
       "    .dataframe thead th {\n",
       "        text-align: right;\n",
       "    }\n",
       "</style>\n",
       "<table border=\"1\" class=\"dataframe\">\n",
       "  <thead>\n",
       "    <tr style=\"text-align: right;\">\n",
       "      <th></th>\n",
       "      <th>atribute</th>\n",
       "      <th>median</th>\n",
       "      <th>mode</th>\n",
       "    </tr>\n",
       "  </thead>\n",
       "  <tbody>\n",
       "    <tr>\n",
       "      <th>0</th>\n",
       "      <td>smart_12_normalized</td>\n",
       "      <td>100.0</td>\n",
       "      <td>100.0</td>\n",
       "    </tr>\n",
       "    <tr>\n",
       "      <th>1</th>\n",
       "      <td>smart_12_raw</td>\n",
       "      <td>7.0</td>\n",
       "      <td>4.0</td>\n",
       "    </tr>\n",
       "    <tr>\n",
       "      <th>2</th>\n",
       "      <td>smart_183_normalized</td>\n",
       "      <td>100.0</td>\n",
       "      <td>100.0</td>\n",
       "    </tr>\n",
       "    <tr>\n",
       "      <th>3</th>\n",
       "      <td>smart_183_raw</td>\n",
       "      <td>0.0</td>\n",
       "      <td>0.0</td>\n",
       "    </tr>\n",
       "    <tr>\n",
       "      <th>4</th>\n",
       "      <td>smart_184_normalized</td>\n",
       "      <td>100.0</td>\n",
       "      <td>100.0</td>\n",
       "    </tr>\n",
       "  </tbody>\n",
       "</table>\n",
       "</div>"
      ],
      "text/plain": [
       "               atribute  median   mode\n",
       "0   smart_12_normalized   100.0  100.0\n",
       "1          smart_12_raw     7.0    4.0\n",
       "2  smart_183_normalized   100.0  100.0\n",
       "3         smart_183_raw     0.0    0.0\n",
       "4  smart_184_normalized   100.0  100.0"
      ]
     },
     "execution_count": 35,
     "metadata": {},
     "output_type": "execute_result"
    }
   ],
   "source": [
    "M.head()"
   ]
  },
  {
   "cell_type": "code",
   "execution_count": 39,
   "metadata": {},
   "outputs": [
    {
     "name": "stdout",
     "output_type": "stream",
     "text": [
      "date, serial_number, model, capacity_bytes, failure\n"
     ]
    }
   ],
   "source": [
    "print(*cat_features, sep = \", \")"
   ]
  },
  {
   "cell_type": "code",
   "execution_count": 41,
   "metadata": {},
   "outputs": [
    {
     "name": "stdout",
     "output_type": "stream",
     "text": [
      "IFNULL(smart_12_normalized, 100) as smart_12_normalized,\n",
      "IFNULL(smart_12_raw, 4) as smart_12_raw,\n",
      "IFNULL(smart_183_normalized, 100) as smart_183_normalized,\n",
      "IFNULL(smart_183_raw, 0) as smart_183_raw,\n",
      "IFNULL(smart_184_normalized, 100) as smart_184_normalized,\n",
      "IFNULL(smart_184_raw, 0) as smart_184_raw,\n",
      "IFNULL(smart_187_normalized, 100) as smart_187_normalized,\n",
      "IFNULL(smart_187_raw, 0) as smart_187_raw,\n",
      "IFNULL(smart_188_normalized, 100) as smart_188_normalized,\n",
      "IFNULL(smart_188_raw, 0) as smart_188_raw,\n",
      "IFNULL(smart_189_normalized, 100) as smart_189_normalized,\n",
      "IFNULL(smart_189_raw, 0) as smart_189_raw,\n",
      "IFNULL(smart_190_normalized, 78) as smart_190_normalized,\n",
      "IFNULL(smart_190_raw, 22) as smart_190_raw,\n",
      "IFNULL(smart_192_normalized, 100) as smart_192_normalized,\n",
      "IFNULL(smart_192_raw, 0) as smart_192_raw,\n",
      "IFNULL(smart_193_normalized, 98) as smart_193_normalized,\n",
      "IFNULL(smart_193_raw, 15) as smart_193_raw,\n",
      "IFNULL(smart_194_normalized, 22) as smart_194_normalized,\n",
      "IFNULL(smart_194_raw, 22) as smart_194_raw,\n",
      "IFNULL(smart_197_normalized, 100) as smart_197_normalized,\n",
      "IFNULL(smart_197_raw, 0) as smart_197_raw,\n",
      "IFNULL(smart_198_normalized, 100) as smart_198_normalized,\n",
      "IFNULL(smart_198_raw, 0) as smart_198_raw,\n",
      "IFNULL(smart_199_normalized, 200) as smart_199_normalized,\n",
      "IFNULL(smart_199_raw, 0) as smart_199_raw,\n",
      "IFNULL(smart_1_normalized, 117) as smart_1_normalized,\n",
      "IFNULL(smart_1_raw, 0) as smart_1_raw,\n",
      "IFNULL(smart_240_normalized, 100) as smart_240_normalized,\n",
      "IFNULL(smart_240_raw, 678) as smart_240_raw,\n",
      "IFNULL(smart_241_raw, 0) as smart_241_raw,\n",
      "IFNULL(smart_242_raw, 1656) as smart_242_raw,\n",
      "IFNULL(smart_3_normalized, 92) as smart_3_normalized,\n",
      "IFNULL(smart_4_normalized, 100) as smart_4_normalized,\n",
      "IFNULL(smart_4_raw, 4) as smart_4_raw,\n",
      "IFNULL(smart_5_normalized, 100) as smart_5_normalized,\n",
      "IFNULL(smart_5_raw, 0) as smart_5_raw,\n",
      "IFNULL(smart_7_normalized, 87) as smart_7_normalized,\n",
      "IFNULL(smart_7_raw, 11) as smart_7_raw,\n",
      "IFNULL(smart_9_normalized, 98) as smart_9_normalized,\n",
      "IFNULL(smart_9_raw, 705) as smart_9_raw,\n"
     ]
    }
   ],
   "source": [
    "for s in SMART:\n",
    "    ismode = int(M.loc[M[\"atribute\"] == s, 'mode'].values[0])\n",
    "    print(\"IFNULL(\"+s+\", \"+str(ismode)+\") as \"+s+\",\")"
   ]
  }
 ],
 "metadata": {
  "environment": {
   "name": "common-cpu.m56",
   "type": "gcloud",
   "uri": "gcr.io/deeplearning-platform-release/base-cpu:m56"
  },
  "kernelspec": {
   "display_name": "Python 3",
   "language": "python",
   "name": "python3"
  },
  "language_info": {
   "codemirror_mode": {
    "name": "ipython",
    "version": 3
   },
   "file_extension": ".py",
   "mimetype": "text/x-python",
   "name": "python",
   "nbconvert_exporter": "python",
   "pygments_lexer": "ipython3",
   "version": "3.7.7"
  }
 },
 "nbformat": 4,
 "nbformat_minor": 4
}
