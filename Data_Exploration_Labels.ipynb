{
 "cells": [
  {
   "cell_type": "code",
   "execution_count": 1,
   "metadata": {},
   "outputs": [
    {
     "name": "stdout",
     "output_type": "stream",
     "text": [
      "Client creating using default project: gentle-pier-291608\n"
     ]
    }
   ],
   "source": [
    "# SETUP\n",
    "\n",
    "# Libraries\n",
    "from google.cloud import bigquery\n",
    "import pandas as pd\n",
    "import matplotlib.pyplot as plt\n",
    "\n",
    "# client location\n",
    "client = bigquery.Client(location = \"europe-north1\")\n",
    "print(\"Client creating using default project: {}\".format(client.project))"
   ]
  },
  {
   "cell_type": "code",
   "execution_count": 2,
   "metadata": {},
   "outputs": [],
   "source": [
    "def failures(table):\n",
    "    query = \"\"\"\n",
    "        SELECT failure, COUNT(date) \n",
    "        FROM df.\"\"\"+table+\"\"\"\n",
    "        GROUP BY failure\n",
    "    \"\"\"\n",
    "    query_job = client.query(query, location= \"europe-north1\")  # API request - starts the query\n",
    "    fail = query_job.to_dataframe()\n",
    "    fail.columns = [\"Label\", \"N\"]\n",
    "    fail[\"Label\"].replace({1: \"failure\", 0: \"not failure\"}, inplace=True)\n",
    "    fail['%'] = (fail.N / fail.N.sum())\n",
    "    fail = fail.sort_values(by=['N'])\n",
    "    return fail"
   ]
  },
  {
   "cell_type": "code",
   "execution_count": 3,
   "metadata": {},
   "outputs": [
    {
     "data": {
      "text/html": [
       "<style  type=\"text/css\" >\n",
       "</style><table id=\"T_1a181954_0f96_11eb_9ae6_42010a840002\" ><caption>Label distribution ST4000DM000</caption><thead>    <tr>        <th class=\"col_heading level0 col0\" >Label</th>        <th class=\"col_heading level0 col1\" >N</th>        <th class=\"col_heading level0 col2\" >%</th>    </tr></thead><tbody>\n",
       "                <tr>\n",
       "                                <td id=\"T_1a181954_0f96_11eb_9ae6_42010a840002row0_col0\" class=\"data row0 col0\" >failure</td>\n",
       "                        <td id=\"T_1a181954_0f96_11eb_9ae6_42010a840002row0_col1\" class=\"data row0 col1\" >4662</td>\n",
       "                        <td id=\"T_1a181954_0f96_11eb_9ae6_42010a840002row0_col2\" class=\"data row0 col2\" >0.007%</td>\n",
       "            </tr>\n",
       "            <tr>\n",
       "                                <td id=\"T_1a181954_0f96_11eb_9ae6_42010a840002row1_col0\" class=\"data row1 col0\" >not failure</td>\n",
       "                        <td id=\"T_1a181954_0f96_11eb_9ae6_42010a840002row1_col1\" class=\"data row1 col1\" >64734162</td>\n",
       "                        <td id=\"T_1a181954_0f96_11eb_9ae6_42010a840002row1_col2\" class=\"data row1 col2\" >99.993%</td>\n",
       "            </tr>\n",
       "    </tbody></table>"
      ],
      "text/plain": [
       "<pandas.io.formats.style.Styler at 0x7fc4a4010710>"
      ]
     },
     "execution_count": 3,
     "metadata": {},
     "output_type": "execute_result"
    }
   ],
   "source": [
    "fail1 = failures(\"top1model\")\n",
    "fail1.style.format({'%': \"{:.3%}\"}).hide_index().set_caption(\"Label distribution ST4000DM000\")"
   ]
  },
  {
   "cell_type": "code",
   "execution_count": 5,
   "metadata": {},
   "outputs": [
    {
     "data": {
      "text/html": [
       "<style  type=\"text/css\" >\n",
       "</style><table id=\"T_1b3b4644_0f96_11eb_9ae6_42010a840002\" ><caption>Label distribution ST12000NM0007</caption><thead>    <tr>        <th class=\"col_heading level0 col0\" >Label</th>        <th class=\"col_heading level0 col1\" >N</th>        <th class=\"col_heading level0 col2\" >%</th>    </tr></thead><tbody>\n",
       "                <tr>\n",
       "                                <td id=\"T_1b3b4644_0f96_11eb_9ae6_42010a840002row0_col0\" class=\"data row0 col0\" >failure</td>\n",
       "                        <td id=\"T_1b3b4644_0f96_11eb_9ae6_42010a840002row0_col1\" class=\"data row0 col1\" >1756</td>\n",
       "                        <td id=\"T_1b3b4644_0f96_11eb_9ae6_42010a840002row0_col2\" class=\"data row0 col2\" >0.006%</td>\n",
       "            </tr>\n",
       "            <tr>\n",
       "                                <td id=\"T_1b3b4644_0f96_11eb_9ae6_42010a840002row1_col0\" class=\"data row1 col0\" >not failure</td>\n",
       "                        <td id=\"T_1b3b4644_0f96_11eb_9ae6_42010a840002row1_col1\" class=\"data row1 col1\" >29711554</td>\n",
       "                        <td id=\"T_1b3b4644_0f96_11eb_9ae6_42010a840002row1_col2\" class=\"data row1 col2\" >99.994%</td>\n",
       "            </tr>\n",
       "    </tbody></table>"
      ],
      "text/plain": [
       "<pandas.io.formats.style.Styler at 0x7fc4a40c1810>"
      ]
     },
     "execution_count": 5,
     "metadata": {},
     "output_type": "execute_result"
    }
   ],
   "source": [
    "fail2 = failures(\"top2model\")\n",
    "fail2.style.format({'%': \"{:.3%}\"}).hide_index().set_caption(\"Label distribution ST12000NM0007\")"
   ]
  },
  {
   "cell_type": "code",
   "execution_count": 7,
   "metadata": {},
   "outputs": [
    {
     "data": {
      "text/html": [
       "<style  type=\"text/css\" >\n",
       "</style><table id=\"T_dc33ad40_0f97_11eb_9ae6_42010a840002\" ><caption>Label distribution HGST HMS5C4040BLE640</caption><thead>    <tr>        <th class=\"col_heading level0 col0\" >Label</th>        <th class=\"col_heading level0 col1\" >N</th>        <th class=\"col_heading level0 col2\" >%</th>    </tr></thead><tbody>\n",
       "                <tr>\n",
       "                                <td id=\"T_dc33ad40_0f97_11eb_9ae6_42010a840002row0_col0\" class=\"data row0 col0\" >failure</td>\n",
       "                        <td id=\"T_dc33ad40_0f97_11eb_9ae6_42010a840002row0_col1\" class=\"data row0 col1\" >296</td>\n",
       "                        <td id=\"T_dc33ad40_0f97_11eb_9ae6_42010a840002row0_col2\" class=\"data row0 col2\" >0.001%</td>\n",
       "            </tr>\n",
       "            <tr>\n",
       "                                <td id=\"T_dc33ad40_0f97_11eb_9ae6_42010a840002row1_col0\" class=\"data row1 col0\" >not failure</td>\n",
       "                        <td id=\"T_dc33ad40_0f97_11eb_9ae6_42010a840002row1_col1\" class=\"data row1 col1\" >24360687</td>\n",
       "                        <td id=\"T_dc33ad40_0f97_11eb_9ae6_42010a840002row1_col2\" class=\"data row1 col2\" >99.999%</td>\n",
       "            </tr>\n",
       "    </tbody></table>"
      ],
      "text/plain": [
       "<pandas.io.formats.style.Styler at 0x7fc4a6db1410>"
      ]
     },
     "execution_count": 7,
     "metadata": {},
     "output_type": "execute_result"
    }
   ],
   "source": [
    "fail3 = failures(\"top3model\")\n",
    "fail3.style.format({'%': \"{:.3%}\"}).hide_index().set_caption(\"Label distribution HGST HMS5C4040BLE640\")"
   ]
  }
 ],
 "metadata": {
  "environment": {
   "name": "common-cpu.m56",
   "type": "gcloud",
   "uri": "gcr.io/deeplearning-platform-release/base-cpu:m56"
  },
  "kernelspec": {
   "display_name": "Python 3",
   "language": "python",
   "name": "python3"
  },
  "language_info": {
   "codemirror_mode": {
    "name": "ipython",
    "version": 3
   },
   "file_extension": ".py",
   "mimetype": "text/x-python",
   "name": "python",
   "nbconvert_exporter": "python",
   "pygments_lexer": "ipython3",
   "version": "3.7.7"
  }
 },
 "nbformat": 4,
 "nbformat_minor": 4
}
